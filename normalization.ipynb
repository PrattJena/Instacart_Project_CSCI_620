{
 "cells": [
  {
   "attachments": {},
   "cell_type": "markdown",
   "metadata": {},
   "source": [
    "### Import Libraries"
   ]
  },
  {
   "cell_type": "code",
   "execution_count": 1,
   "metadata": {},
   "outputs": [],
   "source": [
    "import psycopg2\n",
    "import psycopg2.extras\n",
    "import configparser as configparser\n",
    "import pandas as pd\n",
    "from itertools import combinations"
   ]
  },
  {
   "attachments": {},
   "cell_type": "markdown",
   "metadata": {},
   "source": [
    "## Fetching Instacart tables"
   ]
  },
  {
   "attachments": {},
   "cell_type": "markdown",
   "metadata": {},
   "source": [
    "### Funtion: To parse INI file"
   ]
  },
  {
   "cell_type": "code",
   "execution_count": 2,
   "metadata": {},
   "outputs": [],
   "source": [
    "def parse_ini(section: str) -> dict:\n",
    "    \"\"\"\n",
    "    This function parses ini file for configuration details\n",
    "    :param section: section to read from ini\n",
    "    :return: Dictionary of config details\n",
    "    \"\"\"\n",
    "    config = dict()\n",
    "    parser = configparser.ConfigParser()\n",
    "    parser.read(\"database.ini\")\n",
    "    if parser.has_section(section):\n",
    "        config_items = parser.items(section)\n",
    "        for item in config_items:\n",
    "            config[item[0]] = item[1]\n",
    "    return config"
   ]
  },
  {
   "cell_type": "code",
   "execution_count": 3,
   "metadata": {},
   "outputs": [
    {
     "data": {
      "text/plain": [
       "{'host': 'localhost',\n",
       " 'database': 'instacart',\n",
       " 'user': 'postgres',\n",
       " 'password': '1997',\n",
       " 'port': '5432'}"
      ]
     },
     "execution_count": 3,
     "metadata": {},
     "output_type": "execute_result"
    }
   ],
   "source": [
    "db_config = parse_ini(\"postgresql\")\n",
    "db_config"
   ]
  },
  {
   "attachments": {},
   "cell_type": "markdown",
   "metadata": {},
   "source": [
    "### Function: To connect to Instacart database and run select query to fetch tables into dataframe"
   ]
  },
  {
   "cell_type": "code",
   "execution_count": 4,
   "metadata": {},
   "outputs": [],
   "source": [
    "def fetch_table(table_name: str) -> pd.DataFrame:\n",
    "    with psycopg2.connect(**db_config, options=\"-c search_path=dbo,public,instacart\") as conn:\n",
    "        try:\n",
    "            query = \"SELECT * FROM \" + table_name\n",
    "            dataframe = pd.read_sql_query(query, conn)\n",
    "            print(\"The query results loaded to Dataframe\")\n",
    "            return dataframe\n",
    "        except (Exception, psycopg2.DatabaseError) as error:\n",
    "            print(\"SQL Exception:\" + str(error))"
   ]
  },
  {
   "attachments": {},
   "cell_type": "markdown",
   "metadata": {},
   "source": [
    "### Tables and their attributes"
   ]
  },
  {
   "cell_type": "code",
   "execution_count": 5,
   "metadata": {},
   "outputs": [
    {
     "name": "stdout",
     "output_type": "stream",
     "text": [
      "The query results loaded to Dataframe\n"
     ]
    },
    {
     "name": "stderr",
     "output_type": "stream",
     "text": [
      "C:\\Users\\anura\\AppData\\Local\\Temp\\ipykernel_46536\\3917823166.py:5: UserWarning: pandas only supports SQLAlchemy connectable (engine/connection) or database string URI or sqlite3 DBAPI2 connection. Other DBAPI2 objects are not tested. Please consider using SQLAlchemy.\n",
      "  dataframe = pd.read_sql_query(query, conn)\n"
     ]
    },
    {
     "data": {
      "text/html": [
       "<div>\n",
       "<style scoped>\n",
       "    .dataframe tbody tr th:only-of-type {\n",
       "        vertical-align: middle;\n",
       "    }\n",
       "\n",
       "    .dataframe tbody tr th {\n",
       "        vertical-align: top;\n",
       "    }\n",
       "\n",
       "    .dataframe thead th {\n",
       "        text-align: right;\n",
       "    }\n",
       "</style>\n",
       "<table border=\"1\" class=\"dataframe\">\n",
       "  <thead>\n",
       "    <tr style=\"text-align: right;\">\n",
       "      <th></th>\n",
       "      <th>aisle_id</th>\n",
       "      <th>aisle</th>\n",
       "    </tr>\n",
       "  </thead>\n",
       "  <tbody>\n",
       "    <tr>\n",
       "      <th>0</th>\n",
       "      <td>1</td>\n",
       "      <td>prepared soups salads</td>\n",
       "    </tr>\n",
       "    <tr>\n",
       "      <th>1</th>\n",
       "      <td>2</td>\n",
       "      <td>specialty cheeses</td>\n",
       "    </tr>\n",
       "    <tr>\n",
       "      <th>2</th>\n",
       "      <td>3</td>\n",
       "      <td>energy granola bars</td>\n",
       "    </tr>\n",
       "    <tr>\n",
       "      <th>3</th>\n",
       "      <td>4</td>\n",
       "      <td>instant foods</td>\n",
       "    </tr>\n",
       "    <tr>\n",
       "      <th>4</th>\n",
       "      <td>5</td>\n",
       "      <td>marinades meat preparation</td>\n",
       "    </tr>\n",
       "    <tr>\n",
       "      <th>...</th>\n",
       "      <td>...</td>\n",
       "      <td>...</td>\n",
       "    </tr>\n",
       "    <tr>\n",
       "      <th>129</th>\n",
       "      <td>130</td>\n",
       "      <td>hot cereal pancake mixes</td>\n",
       "    </tr>\n",
       "    <tr>\n",
       "      <th>130</th>\n",
       "      <td>131</td>\n",
       "      <td>dry pasta</td>\n",
       "    </tr>\n",
       "    <tr>\n",
       "      <th>131</th>\n",
       "      <td>132</td>\n",
       "      <td>beauty</td>\n",
       "    </tr>\n",
       "    <tr>\n",
       "      <th>132</th>\n",
       "      <td>133</td>\n",
       "      <td>muscles joints pain relief</td>\n",
       "    </tr>\n",
       "    <tr>\n",
       "      <th>133</th>\n",
       "      <td>134</td>\n",
       "      <td>specialty wines champagnes</td>\n",
       "    </tr>\n",
       "  </tbody>\n",
       "</table>\n",
       "<p>134 rows × 2 columns</p>\n",
       "</div>"
      ],
      "text/plain": [
       "     aisle_id                       aisle\n",
       "0           1       prepared soups salads\n",
       "1           2           specialty cheeses\n",
       "2           3         energy granola bars\n",
       "3           4               instant foods\n",
       "4           5  marinades meat preparation\n",
       "..        ...                         ...\n",
       "129       130    hot cereal pancake mixes\n",
       "130       131                   dry pasta\n",
       "131       132                      beauty\n",
       "132       133  muscles joints pain relief\n",
       "133       134  specialty wines champagnes\n",
       "\n",
       "[134 rows x 2 columns]"
      ]
     },
     "execution_count": 5,
     "metadata": {},
     "output_type": "execute_result"
    }
   ],
   "source": [
    "aisles_df = fetch_table(\"aisles\")\n",
    "aisles_attributes = list(aisles_df.columns)\n",
    "aisles_df"
   ]
  },
  {
   "cell_type": "code",
   "execution_count": 6,
   "metadata": {},
   "outputs": [
    {
     "name": "stdout",
     "output_type": "stream",
     "text": [
      "The query results loaded to Dataframe\n"
     ]
    },
    {
     "name": "stderr",
     "output_type": "stream",
     "text": [
      "C:\\Users\\anura\\AppData\\Local\\Temp\\ipykernel_46536\\3917823166.py:5: UserWarning: pandas only supports SQLAlchemy connectable (engine/connection) or database string URI or sqlite3 DBAPI2 connection. Other DBAPI2 objects are not tested. Please consider using SQLAlchemy.\n",
      "  dataframe = pd.read_sql_query(query, conn)\n"
     ]
    },
    {
     "data": {
      "text/html": [
       "<div>\n",
       "<style scoped>\n",
       "    .dataframe tbody tr th:only-of-type {\n",
       "        vertical-align: middle;\n",
       "    }\n",
       "\n",
       "    .dataframe tbody tr th {\n",
       "        vertical-align: top;\n",
       "    }\n",
       "\n",
       "    .dataframe thead th {\n",
       "        text-align: right;\n",
       "    }\n",
       "</style>\n",
       "<table border=\"1\" class=\"dataframe\">\n",
       "  <thead>\n",
       "    <tr style=\"text-align: right;\">\n",
       "      <th></th>\n",
       "      <th>department_id</th>\n",
       "      <th>department</th>\n",
       "    </tr>\n",
       "  </thead>\n",
       "  <tbody>\n",
       "    <tr>\n",
       "      <th>0</th>\n",
       "      <td>1</td>\n",
       "      <td>frozen</td>\n",
       "    </tr>\n",
       "    <tr>\n",
       "      <th>1</th>\n",
       "      <td>2</td>\n",
       "      <td>other</td>\n",
       "    </tr>\n",
       "    <tr>\n",
       "      <th>2</th>\n",
       "      <td>3</td>\n",
       "      <td>bakery</td>\n",
       "    </tr>\n",
       "    <tr>\n",
       "      <th>3</th>\n",
       "      <td>4</td>\n",
       "      <td>produce</td>\n",
       "    </tr>\n",
       "    <tr>\n",
       "      <th>4</th>\n",
       "      <td>5</td>\n",
       "      <td>alcohol</td>\n",
       "    </tr>\n",
       "    <tr>\n",
       "      <th>5</th>\n",
       "      <td>6</td>\n",
       "      <td>international</td>\n",
       "    </tr>\n",
       "    <tr>\n",
       "      <th>6</th>\n",
       "      <td>7</td>\n",
       "      <td>beverages</td>\n",
       "    </tr>\n",
       "    <tr>\n",
       "      <th>7</th>\n",
       "      <td>8</td>\n",
       "      <td>pets</td>\n",
       "    </tr>\n",
       "    <tr>\n",
       "      <th>8</th>\n",
       "      <td>9</td>\n",
       "      <td>dry goods pasta</td>\n",
       "    </tr>\n",
       "    <tr>\n",
       "      <th>9</th>\n",
       "      <td>10</td>\n",
       "      <td>bulk</td>\n",
       "    </tr>\n",
       "    <tr>\n",
       "      <th>10</th>\n",
       "      <td>11</td>\n",
       "      <td>personal care</td>\n",
       "    </tr>\n",
       "    <tr>\n",
       "      <th>11</th>\n",
       "      <td>12</td>\n",
       "      <td>meat seafood</td>\n",
       "    </tr>\n",
       "    <tr>\n",
       "      <th>12</th>\n",
       "      <td>13</td>\n",
       "      <td>pantry</td>\n",
       "    </tr>\n",
       "    <tr>\n",
       "      <th>13</th>\n",
       "      <td>14</td>\n",
       "      <td>breakfast</td>\n",
       "    </tr>\n",
       "    <tr>\n",
       "      <th>14</th>\n",
       "      <td>15</td>\n",
       "      <td>canned goods</td>\n",
       "    </tr>\n",
       "    <tr>\n",
       "      <th>15</th>\n",
       "      <td>16</td>\n",
       "      <td>dairy eggs</td>\n",
       "    </tr>\n",
       "    <tr>\n",
       "      <th>16</th>\n",
       "      <td>17</td>\n",
       "      <td>household</td>\n",
       "    </tr>\n",
       "    <tr>\n",
       "      <th>17</th>\n",
       "      <td>18</td>\n",
       "      <td>babies</td>\n",
       "    </tr>\n",
       "    <tr>\n",
       "      <th>18</th>\n",
       "      <td>19</td>\n",
       "      <td>snacks</td>\n",
       "    </tr>\n",
       "    <tr>\n",
       "      <th>19</th>\n",
       "      <td>20</td>\n",
       "      <td>deli</td>\n",
       "    </tr>\n",
       "    <tr>\n",
       "      <th>20</th>\n",
       "      <td>21</td>\n",
       "      <td>missing</td>\n",
       "    </tr>\n",
       "  </tbody>\n",
       "</table>\n",
       "</div>"
      ],
      "text/plain": [
       "    department_id       department\n",
       "0               1           frozen\n",
       "1               2            other\n",
       "2               3           bakery\n",
       "3               4          produce\n",
       "4               5          alcohol\n",
       "5               6    international\n",
       "6               7        beverages\n",
       "7               8             pets\n",
       "8               9  dry goods pasta\n",
       "9              10             bulk\n",
       "10             11    personal care\n",
       "11             12     meat seafood\n",
       "12             13           pantry\n",
       "13             14        breakfast\n",
       "14             15     canned goods\n",
       "15             16       dairy eggs\n",
       "16             17        household\n",
       "17             18           babies\n",
       "18             19           snacks\n",
       "19             20             deli\n",
       "20             21          missing"
      ]
     },
     "execution_count": 6,
     "metadata": {},
     "output_type": "execute_result"
    }
   ],
   "source": [
    "departments_df = fetch_table(\"departments\")\n",
    "departments_attributes = list(departments_df.columns)\n",
    "departments_df"
   ]
  },
  {
   "cell_type": "code",
   "execution_count": 7,
   "metadata": {},
   "outputs": [
    {
     "name": "stderr",
     "output_type": "stream",
     "text": [
      "C:\\Users\\anura\\AppData\\Local\\Temp\\ipykernel_46536\\3917823166.py:5: UserWarning: pandas only supports SQLAlchemy connectable (engine/connection) or database string URI or sqlite3 DBAPI2 connection. Other DBAPI2 objects are not tested. Please consider using SQLAlchemy.\n",
      "  dataframe = pd.read_sql_query(query, conn)\n"
     ]
    },
    {
     "name": "stdout",
     "output_type": "stream",
     "text": [
      "The query results loaded to Dataframe\n"
     ]
    },
    {
     "data": {
      "text/html": [
       "<div>\n",
       "<style scoped>\n",
       "    .dataframe tbody tr th:only-of-type {\n",
       "        vertical-align: middle;\n",
       "    }\n",
       "\n",
       "    .dataframe tbody tr th {\n",
       "        vertical-align: top;\n",
       "    }\n",
       "\n",
       "    .dataframe thead th {\n",
       "        text-align: right;\n",
       "    }\n",
       "</style>\n",
       "<table border=\"1\" class=\"dataframe\">\n",
       "  <thead>\n",
       "    <tr style=\"text-align: right;\">\n",
       "      <th></th>\n",
       "      <th>product_id</th>\n",
       "      <th>product_name</th>\n",
       "      <th>aisle_id</th>\n",
       "      <th>department_id</th>\n",
       "    </tr>\n",
       "  </thead>\n",
       "  <tbody>\n",
       "    <tr>\n",
       "      <th>0</th>\n",
       "      <td>1</td>\n",
       "      <td>Chocolate Sandwich Cookies</td>\n",
       "      <td>61</td>\n",
       "      <td>19</td>\n",
       "    </tr>\n",
       "    <tr>\n",
       "      <th>1</th>\n",
       "      <td>2</td>\n",
       "      <td>All-Seasons Salt</td>\n",
       "      <td>104</td>\n",
       "      <td>13</td>\n",
       "    </tr>\n",
       "    <tr>\n",
       "      <th>2</th>\n",
       "      <td>3</td>\n",
       "      <td>Robust Golden Unsweetened Oolong Tea</td>\n",
       "      <td>94</td>\n",
       "      <td>7</td>\n",
       "    </tr>\n",
       "    <tr>\n",
       "      <th>3</th>\n",
       "      <td>4</td>\n",
       "      <td>Smart Ones Classic Favorites Mini Rigatoni Wit...</td>\n",
       "      <td>38</td>\n",
       "      <td>1</td>\n",
       "    </tr>\n",
       "    <tr>\n",
       "      <th>4</th>\n",
       "      <td>5</td>\n",
       "      <td>Green Chile Anytime Sauce</td>\n",
       "      <td>5</td>\n",
       "      <td>13</td>\n",
       "    </tr>\n",
       "    <tr>\n",
       "      <th>...</th>\n",
       "      <td>...</td>\n",
       "      <td>...</td>\n",
       "      <td>...</td>\n",
       "      <td>...</td>\n",
       "    </tr>\n",
       "    <tr>\n",
       "      <th>49683</th>\n",
       "      <td>49684</td>\n",
       "      <td>Vodka, Triple Distilled, Twist of Vanilla</td>\n",
       "      <td>124</td>\n",
       "      <td>5</td>\n",
       "    </tr>\n",
       "    <tr>\n",
       "      <th>49684</th>\n",
       "      <td>49685</td>\n",
       "      <td>En Croute Roast Hazelnut Cranberry</td>\n",
       "      <td>42</td>\n",
       "      <td>1</td>\n",
       "    </tr>\n",
       "    <tr>\n",
       "      <th>49685</th>\n",
       "      <td>49686</td>\n",
       "      <td>Artisan Baguette</td>\n",
       "      <td>112</td>\n",
       "      <td>3</td>\n",
       "    </tr>\n",
       "    <tr>\n",
       "      <th>49686</th>\n",
       "      <td>49687</td>\n",
       "      <td>Smartblend Healthy Metabolism Dry Cat Food</td>\n",
       "      <td>41</td>\n",
       "      <td>8</td>\n",
       "    </tr>\n",
       "    <tr>\n",
       "      <th>49687</th>\n",
       "      <td>49688</td>\n",
       "      <td>Fresh Foaming Cleanser</td>\n",
       "      <td>73</td>\n",
       "      <td>11</td>\n",
       "    </tr>\n",
       "  </tbody>\n",
       "</table>\n",
       "<p>49688 rows × 4 columns</p>\n",
       "</div>"
      ],
      "text/plain": [
       "       product_id                                       product_name  \\\n",
       "0               1                         Chocolate Sandwich Cookies   \n",
       "1               2                                   All-Seasons Salt   \n",
       "2               3               Robust Golden Unsweetened Oolong Tea   \n",
       "3               4  Smart Ones Classic Favorites Mini Rigatoni Wit...   \n",
       "4               5                          Green Chile Anytime Sauce   \n",
       "...           ...                                                ...   \n",
       "49683       49684          Vodka, Triple Distilled, Twist of Vanilla   \n",
       "49684       49685                 En Croute Roast Hazelnut Cranberry   \n",
       "49685       49686                                   Artisan Baguette   \n",
       "49686       49687         Smartblend Healthy Metabolism Dry Cat Food   \n",
       "49687       49688                             Fresh Foaming Cleanser   \n",
       "\n",
       "       aisle_id  department_id  \n",
       "0            61             19  \n",
       "1           104             13  \n",
       "2            94              7  \n",
       "3            38              1  \n",
       "4             5             13  \n",
       "...         ...            ...  \n",
       "49683       124              5  \n",
       "49684        42              1  \n",
       "49685       112              3  \n",
       "49686        41              8  \n",
       "49687        73             11  \n",
       "\n",
       "[49688 rows x 4 columns]"
      ]
     },
     "execution_count": 7,
     "metadata": {},
     "output_type": "execute_result"
    }
   ],
   "source": [
    "products_df = fetch_table(\"products\")\n",
    "products_attributes = list(products_df.columns)\n",
    "products_df"
   ]
  },
  {
   "cell_type": "code",
   "execution_count": 8,
   "metadata": {},
   "outputs": [
    {
     "name": "stderr",
     "output_type": "stream",
     "text": [
      "C:\\Users\\anura\\AppData\\Local\\Temp\\ipykernel_46536\\3917823166.py:5: UserWarning: pandas only supports SQLAlchemy connectable (engine/connection) or database string URI or sqlite3 DBAPI2 connection. Other DBAPI2 objects are not tested. Please consider using SQLAlchemy.\n",
      "  dataframe = pd.read_sql_query(query, conn)\n"
     ]
    },
    {
     "name": "stdout",
     "output_type": "stream",
     "text": [
      "The query results loaded to Dataframe\n"
     ]
    },
    {
     "data": {
      "text/html": [
       "<div>\n",
       "<style scoped>\n",
       "    .dataframe tbody tr th:only-of-type {\n",
       "        vertical-align: middle;\n",
       "    }\n",
       "\n",
       "    .dataframe tbody tr th {\n",
       "        vertical-align: top;\n",
       "    }\n",
       "\n",
       "    .dataframe thead th {\n",
       "        text-align: right;\n",
       "    }\n",
       "</style>\n",
       "<table border=\"1\" class=\"dataframe\">\n",
       "  <thead>\n",
       "    <tr style=\"text-align: right;\">\n",
       "      <th></th>\n",
       "      <th>user_id</th>\n",
       "      <th>user_name</th>\n",
       "      <th>user_address</th>\n",
       "      <th>city</th>\n",
       "      <th>state</th>\n",
       "      <th>pincode</th>\n",
       "      <th>user_email</th>\n",
       "    </tr>\n",
       "  </thead>\n",
       "  <tbody>\n",
       "    <tr>\n",
       "      <th>0</th>\n",
       "      <td>0</td>\n",
       "      <td>John Long</td>\n",
       "      <td>6452 Christopher Trafficway Suite 534</td>\n",
       "      <td>Leefurt</td>\n",
       "      <td>GU</td>\n",
       "      <td>60759</td>\n",
       "      <td>johnlong6452Leefurt2864@mccoy-johnson.com</td>\n",
       "    </tr>\n",
       "    <tr>\n",
       "      <th>1</th>\n",
       "      <td>1</td>\n",
       "      <td>Sara Bennett</td>\n",
       "      <td>38754 Sean Meadows Suite 708</td>\n",
       "      <td>East Stacyport</td>\n",
       "      <td>AS</td>\n",
       "      <td>44991</td>\n",
       "      <td>sarabennett38754East Stacyport8757@meyer-mcken...</td>\n",
       "    </tr>\n",
       "    <tr>\n",
       "      <th>2</th>\n",
       "      <td>2</td>\n",
       "      <td>Travis Pacheco</td>\n",
       "      <td>4200 Gina Causeway Apt. 647</td>\n",
       "      <td>Lake Jennifermouth</td>\n",
       "      <td>WY</td>\n",
       "      <td>937</td>\n",
       "      <td>travispacheco4200Lake Jennifermouth2327@hampto...</td>\n",
       "    </tr>\n",
       "    <tr>\n",
       "      <th>3</th>\n",
       "      <td>3</td>\n",
       "      <td>Judith Hall</td>\n",
       "      <td>79196 April Burgs</td>\n",
       "      <td>Beverlymouth</td>\n",
       "      <td>PR</td>\n",
       "      <td>95596</td>\n",
       "      <td>judithhall79196Beverlymouth3017@shelton.com</td>\n",
       "    </tr>\n",
       "    <tr>\n",
       "      <th>4</th>\n",
       "      <td>4</td>\n",
       "      <td>Krystal Moore</td>\n",
       "      <td>386 Aaron Viaduct</td>\n",
       "      <td>Ballborough</td>\n",
       "      <td>NM</td>\n",
       "      <td>53837</td>\n",
       "      <td>krystalmoore386Ballborough416@johns.com</td>\n",
       "    </tr>\n",
       "    <tr>\n",
       "      <th>...</th>\n",
       "      <td>...</td>\n",
       "      <td>...</td>\n",
       "      <td>...</td>\n",
       "      <td>...</td>\n",
       "      <td>...</td>\n",
       "      <td>...</td>\n",
       "      <td>...</td>\n",
       "    </tr>\n",
       "    <tr>\n",
       "      <th>3999995</th>\n",
       "      <td>3999995</td>\n",
       "      <td>Angelica Pacheco</td>\n",
       "      <td>503 Anderson Union Apt. 507</td>\n",
       "      <td>South Davidborough</td>\n",
       "      <td>SD</td>\n",
       "      <td>86375</td>\n",
       "      <td>angelicapacheco503South Davidborough7699@colli...</td>\n",
       "    </tr>\n",
       "    <tr>\n",
       "      <th>3999996</th>\n",
       "      <td>3999996</td>\n",
       "      <td>Jason Ross</td>\n",
       "      <td>308 Lyons Terrace</td>\n",
       "      <td>Howardville</td>\n",
       "      <td>WV</td>\n",
       "      <td>64111</td>\n",
       "      <td>jasonross308Howardville1186@burton-sandoval.com</td>\n",
       "    </tr>\n",
       "    <tr>\n",
       "      <th>3999997</th>\n",
       "      <td>3999997</td>\n",
       "      <td>Katie Holland</td>\n",
       "      <td>6545 Tina Ville</td>\n",
       "      <td>Port Rachelmouth</td>\n",
       "      <td>OH</td>\n",
       "      <td>15277</td>\n",
       "      <td>katieholland6545Port Rachelmouth6840@davis.com</td>\n",
       "    </tr>\n",
       "    <tr>\n",
       "      <th>3999998</th>\n",
       "      <td>3999998</td>\n",
       "      <td>Barbara Wallace</td>\n",
       "      <td>8644 Kimberly Center</td>\n",
       "      <td>New Mark</td>\n",
       "      <td>MD</td>\n",
       "      <td>19890</td>\n",
       "      <td>barbarawallace8644New Mark3721@vasquez-baker.biz</td>\n",
       "    </tr>\n",
       "    <tr>\n",
       "      <th>3999999</th>\n",
       "      <td>3999999</td>\n",
       "      <td>Wendy Wilson</td>\n",
       "      <td>318 Victor Park Apt. 603</td>\n",
       "      <td>North Christopher</td>\n",
       "      <td>TX</td>\n",
       "      <td>67881</td>\n",
       "      <td>wendywilson318North Christopher8701@hopkins-pe...</td>\n",
       "    </tr>\n",
       "  </tbody>\n",
       "</table>\n",
       "<p>4000000 rows × 7 columns</p>\n",
       "</div>"
      ],
      "text/plain": [
       "         user_id         user_name                           user_address  \\\n",
       "0              0         John Long  6452 Christopher Trafficway Suite 534   \n",
       "1              1      Sara Bennett           38754 Sean Meadows Suite 708   \n",
       "2              2    Travis Pacheco            4200 Gina Causeway Apt. 647   \n",
       "3              3       Judith Hall                      79196 April Burgs   \n",
       "4              4     Krystal Moore                      386 Aaron Viaduct   \n",
       "...          ...               ...                                    ...   \n",
       "3999995  3999995  Angelica Pacheco            503 Anderson Union Apt. 507   \n",
       "3999996  3999996        Jason Ross                      308 Lyons Terrace   \n",
       "3999997  3999997     Katie Holland                        6545 Tina Ville   \n",
       "3999998  3999998   Barbara Wallace                   8644 Kimberly Center   \n",
       "3999999  3999999      Wendy Wilson               318 Victor Park Apt. 603   \n",
       "\n",
       "                       city state  pincode  \\\n",
       "0                   Leefurt    GU    60759   \n",
       "1            East Stacyport    AS    44991   \n",
       "2        Lake Jennifermouth    WY      937   \n",
       "3              Beverlymouth    PR    95596   \n",
       "4               Ballborough    NM    53837   \n",
       "...                     ...   ...      ...   \n",
       "3999995  South Davidborough    SD    86375   \n",
       "3999996         Howardville    WV    64111   \n",
       "3999997    Port Rachelmouth    OH    15277   \n",
       "3999998            New Mark    MD    19890   \n",
       "3999999   North Christopher    TX    67881   \n",
       "\n",
       "                                                user_email  \n",
       "0                johnlong6452Leefurt2864@mccoy-johnson.com  \n",
       "1        sarabennett38754East Stacyport8757@meyer-mcken...  \n",
       "2        travispacheco4200Lake Jennifermouth2327@hampto...  \n",
       "3              judithhall79196Beverlymouth3017@shelton.com  \n",
       "4                  krystalmoore386Ballborough416@johns.com  \n",
       "...                                                    ...  \n",
       "3999995  angelicapacheco503South Davidborough7699@colli...  \n",
       "3999996    jasonross308Howardville1186@burton-sandoval.com  \n",
       "3999997     katieholland6545Port Rachelmouth6840@davis.com  \n",
       "3999998   barbarawallace8644New Mark3721@vasquez-baker.biz  \n",
       "3999999  wendywilson318North Christopher8701@hopkins-pe...  \n",
       "\n",
       "[4000000 rows x 7 columns]"
      ]
     },
     "execution_count": 8,
     "metadata": {},
     "output_type": "execute_result"
    }
   ],
   "source": [
    "users_df = fetch_table(\"users\")\n",
    "users_attributes = list(users_df.columns)\n",
    "users_df"
   ]
  },
  {
   "cell_type": "code",
   "execution_count": 9,
   "metadata": {},
   "outputs": [
    {
     "name": "stderr",
     "output_type": "stream",
     "text": [
      "C:\\Users\\anura\\AppData\\Local\\Temp\\ipykernel_46536\\3917823166.py:5: UserWarning: pandas only supports SQLAlchemy connectable (engine/connection) or database string URI or sqlite3 DBAPI2 connection. Other DBAPI2 objects are not tested. Please consider using SQLAlchemy.\n",
      "  dataframe = pd.read_sql_query(query, conn)\n"
     ]
    },
    {
     "name": "stdout",
     "output_type": "stream",
     "text": [
      "The query results loaded to Dataframe\n"
     ]
    },
    {
     "data": {
      "text/html": [
       "<div>\n",
       "<style scoped>\n",
       "    .dataframe tbody tr th:only-of-type {\n",
       "        vertical-align: middle;\n",
       "    }\n",
       "\n",
       "    .dataframe tbody tr th {\n",
       "        vertical-align: top;\n",
       "    }\n",
       "\n",
       "    .dataframe thead th {\n",
       "        text-align: right;\n",
       "    }\n",
       "</style>\n",
       "<table border=\"1\" class=\"dataframe\">\n",
       "  <thead>\n",
       "    <tr style=\"text-align: right;\">\n",
       "      <th></th>\n",
       "      <th>order_id</th>\n",
       "      <th>user_id</th>\n",
       "      <th>order_number</th>\n",
       "      <th>order_dow</th>\n",
       "      <th>order_hour_of_day</th>\n",
       "      <th>days_since_prior_order</th>\n",
       "    </tr>\n",
       "  </thead>\n",
       "  <tbody>\n",
       "    <tr>\n",
       "      <th>0</th>\n",
       "      <td>2539329</td>\n",
       "      <td>1</td>\n",
       "      <td>1</td>\n",
       "      <td>2</td>\n",
       "      <td>8</td>\n",
       "      <td>NaN</td>\n",
       "    </tr>\n",
       "    <tr>\n",
       "      <th>1</th>\n",
       "      <td>2398795</td>\n",
       "      <td>1</td>\n",
       "      <td>2</td>\n",
       "      <td>3</td>\n",
       "      <td>7</td>\n",
       "      <td>15.0</td>\n",
       "    </tr>\n",
       "    <tr>\n",
       "      <th>2</th>\n",
       "      <td>473747</td>\n",
       "      <td>1</td>\n",
       "      <td>3</td>\n",
       "      <td>3</td>\n",
       "      <td>12</td>\n",
       "      <td>21.0</td>\n",
       "    </tr>\n",
       "    <tr>\n",
       "      <th>3</th>\n",
       "      <td>2254736</td>\n",
       "      <td>1</td>\n",
       "      <td>4</td>\n",
       "      <td>4</td>\n",
       "      <td>7</td>\n",
       "      <td>29.0</td>\n",
       "    </tr>\n",
       "    <tr>\n",
       "      <th>4</th>\n",
       "      <td>431534</td>\n",
       "      <td>1</td>\n",
       "      <td>5</td>\n",
       "      <td>4</td>\n",
       "      <td>15</td>\n",
       "      <td>28.0</td>\n",
       "    </tr>\n",
       "    <tr>\n",
       "      <th>...</th>\n",
       "      <td>...</td>\n",
       "      <td>...</td>\n",
       "      <td>...</td>\n",
       "      <td>...</td>\n",
       "      <td>...</td>\n",
       "      <td>...</td>\n",
       "    </tr>\n",
       "    <tr>\n",
       "      <th>3421078</th>\n",
       "      <td>2266710</td>\n",
       "      <td>206209</td>\n",
       "      <td>10</td>\n",
       "      <td>5</td>\n",
       "      <td>18</td>\n",
       "      <td>29.0</td>\n",
       "    </tr>\n",
       "    <tr>\n",
       "      <th>3421079</th>\n",
       "      <td>1854736</td>\n",
       "      <td>206209</td>\n",
       "      <td>11</td>\n",
       "      <td>4</td>\n",
       "      <td>10</td>\n",
       "      <td>30.0</td>\n",
       "    </tr>\n",
       "    <tr>\n",
       "      <th>3421080</th>\n",
       "      <td>626363</td>\n",
       "      <td>206209</td>\n",
       "      <td>12</td>\n",
       "      <td>1</td>\n",
       "      <td>12</td>\n",
       "      <td>18.0</td>\n",
       "    </tr>\n",
       "    <tr>\n",
       "      <th>3421081</th>\n",
       "      <td>2977660</td>\n",
       "      <td>206209</td>\n",
       "      <td>13</td>\n",
       "      <td>1</td>\n",
       "      <td>12</td>\n",
       "      <td>7.0</td>\n",
       "    </tr>\n",
       "    <tr>\n",
       "      <th>3421082</th>\n",
       "      <td>272231</td>\n",
       "      <td>206209</td>\n",
       "      <td>14</td>\n",
       "      <td>6</td>\n",
       "      <td>14</td>\n",
       "      <td>30.0</td>\n",
       "    </tr>\n",
       "  </tbody>\n",
       "</table>\n",
       "<p>3421083 rows × 6 columns</p>\n",
       "</div>"
      ],
      "text/plain": [
       "         order_id  user_id  order_number  order_dow  order_hour_of_day  \\\n",
       "0         2539329        1             1          2                  8   \n",
       "1         2398795        1             2          3                  7   \n",
       "2          473747        1             3          3                 12   \n",
       "3         2254736        1             4          4                  7   \n",
       "4          431534        1             5          4                 15   \n",
       "...           ...      ...           ...        ...                ...   \n",
       "3421078   2266710   206209            10          5                 18   \n",
       "3421079   1854736   206209            11          4                 10   \n",
       "3421080    626363   206209            12          1                 12   \n",
       "3421081   2977660   206209            13          1                 12   \n",
       "3421082    272231   206209            14          6                 14   \n",
       "\n",
       "         days_since_prior_order  \n",
       "0                           NaN  \n",
       "1                          15.0  \n",
       "2                          21.0  \n",
       "3                          29.0  \n",
       "4                          28.0  \n",
       "...                         ...  \n",
       "3421078                    29.0  \n",
       "3421079                    30.0  \n",
       "3421080                    18.0  \n",
       "3421081                     7.0  \n",
       "3421082                    30.0  \n",
       "\n",
       "[3421083 rows x 6 columns]"
      ]
     },
     "execution_count": 9,
     "metadata": {},
     "output_type": "execute_result"
    }
   ],
   "source": [
    "orders_df = fetch_table(\"orders\")\n",
    "orders_attributes = list(orders_df.columns)\n",
    "orders_df"
   ]
  },
  {
   "cell_type": "code",
   "execution_count": 10,
   "metadata": {},
   "outputs": [
    {
     "name": "stderr",
     "output_type": "stream",
     "text": [
      "C:\\Users\\anura\\AppData\\Local\\Temp\\ipykernel_46536\\3917823166.py:5: UserWarning: pandas only supports SQLAlchemy connectable (engine/connection) or database string URI or sqlite3 DBAPI2 connection. Other DBAPI2 objects are not tested. Please consider using SQLAlchemy.\n",
      "  dataframe = pd.read_sql_query(query, conn)\n"
     ]
    },
    {
     "name": "stdout",
     "output_type": "stream",
     "text": [
      "The query results loaded to Dataframe\n"
     ]
    },
    {
     "data": {
      "text/html": [
       "<div>\n",
       "<style scoped>\n",
       "    .dataframe tbody tr th:only-of-type {\n",
       "        vertical-align: middle;\n",
       "    }\n",
       "\n",
       "    .dataframe tbody tr th {\n",
       "        vertical-align: top;\n",
       "    }\n",
       "\n",
       "    .dataframe thead th {\n",
       "        text-align: right;\n",
       "    }\n",
       "</style>\n",
       "<table border=\"1\" class=\"dataframe\">\n",
       "  <thead>\n",
       "    <tr style=\"text-align: right;\">\n",
       "      <th></th>\n",
       "      <th>order_id</th>\n",
       "      <th>product_id</th>\n",
       "      <th>add_to_cart_order</th>\n",
       "      <th>reordered</th>\n",
       "    </tr>\n",
       "  </thead>\n",
       "  <tbody>\n",
       "    <tr>\n",
       "      <th>0</th>\n",
       "      <td>2</td>\n",
       "      <td>33120</td>\n",
       "      <td>1</td>\n",
       "      <td>1</td>\n",
       "    </tr>\n",
       "    <tr>\n",
       "      <th>1</th>\n",
       "      <td>2</td>\n",
       "      <td>28985</td>\n",
       "      <td>2</td>\n",
       "      <td>1</td>\n",
       "    </tr>\n",
       "    <tr>\n",
       "      <th>2</th>\n",
       "      <td>2</td>\n",
       "      <td>9327</td>\n",
       "      <td>3</td>\n",
       "      <td>0</td>\n",
       "    </tr>\n",
       "    <tr>\n",
       "      <th>3</th>\n",
       "      <td>2</td>\n",
       "      <td>45918</td>\n",
       "      <td>4</td>\n",
       "      <td>1</td>\n",
       "    </tr>\n",
       "    <tr>\n",
       "      <th>4</th>\n",
       "      <td>2</td>\n",
       "      <td>30035</td>\n",
       "      <td>5</td>\n",
       "      <td>0</td>\n",
       "    </tr>\n",
       "    <tr>\n",
       "      <th>...</th>\n",
       "      <td>...</td>\n",
       "      <td>...</td>\n",
       "      <td>...</td>\n",
       "      <td>...</td>\n",
       "    </tr>\n",
       "    <tr>\n",
       "      <th>32434484</th>\n",
       "      <td>3421083</td>\n",
       "      <td>39678</td>\n",
       "      <td>6</td>\n",
       "      <td>1</td>\n",
       "    </tr>\n",
       "    <tr>\n",
       "      <th>32434485</th>\n",
       "      <td>3421083</td>\n",
       "      <td>11352</td>\n",
       "      <td>7</td>\n",
       "      <td>0</td>\n",
       "    </tr>\n",
       "    <tr>\n",
       "      <th>32434486</th>\n",
       "      <td>3421083</td>\n",
       "      <td>4600</td>\n",
       "      <td>8</td>\n",
       "      <td>0</td>\n",
       "    </tr>\n",
       "    <tr>\n",
       "      <th>32434487</th>\n",
       "      <td>3421083</td>\n",
       "      <td>24852</td>\n",
       "      <td>9</td>\n",
       "      <td>1</td>\n",
       "    </tr>\n",
       "    <tr>\n",
       "      <th>32434488</th>\n",
       "      <td>3421083</td>\n",
       "      <td>5020</td>\n",
       "      <td>10</td>\n",
       "      <td>1</td>\n",
       "    </tr>\n",
       "  </tbody>\n",
       "</table>\n",
       "<p>32434489 rows × 4 columns</p>\n",
       "</div>"
      ],
      "text/plain": [
       "          order_id  product_id  add_to_cart_order  reordered\n",
       "0                2       33120                  1          1\n",
       "1                2       28985                  2          1\n",
       "2                2        9327                  3          0\n",
       "3                2       45918                  4          1\n",
       "4                2       30035                  5          0\n",
       "...            ...         ...                ...        ...\n",
       "32434484   3421083       39678                  6          1\n",
       "32434485   3421083       11352                  7          0\n",
       "32434486   3421083        4600                  8          0\n",
       "32434487   3421083       24852                  9          1\n",
       "32434488   3421083        5020                 10          1\n",
       "\n",
       "[32434489 rows x 4 columns]"
      ]
     },
     "execution_count": 10,
     "metadata": {},
     "output_type": "execute_result"
    }
   ],
   "source": [
    "order_products_df = fetch_table(\"order_products\")\n",
    "order_products_attributes = list(order_products_df.columns)\n",
    "order_products_df"
   ]
  },
  {
   "attachments": {},
   "cell_type": "markdown",
   "metadata": {},
   "source": [
    "### Function: To check Dependency using partition refinement\n",
    "It checks the if the count of equivalence classes for set LHS and count of equivalence classes for set (LHS v {RHS}) is same\n",
    "(Simplified partition refinement)"
   ]
  },
  {
   "cell_type": "code",
   "execution_count": 11,
   "metadata": {},
   "outputs": [],
   "source": [
    "def check_dependency(dataframe, lhs, rhs) -> bool:\n",
    "    count1 = dataframe[list(lhs)].drop_duplicates().shape[0]\n",
    "    lhs_rhs = list(lhs) + [rhs]\n",
    "    count2 = dataframe[list(lhs_rhs)].drop_duplicates().shape[0]\n",
    "    if count1 != count2:\n",
    "        return False\n",
    "    return True"
   ]
  },
  {
   "attachments": {},
   "cell_type": "markdown",
   "metadata": {},
   "source": [
    "## Pruning approach to find FDs"
   ]
  },
  {
   "attachments": {},
   "cell_type": "markdown",
   "metadata": {},
   "source": [
    "### Function: To calculate RHS Candidates for a given set X subset of Attributes R of relation"
   ]
  },
  {
   "cell_type": "code",
   "execution_count": 12,
   "metadata": {},
   "outputs": [],
   "source": [
    "def get_candidate_plus_RHS(alpha, previous_level_alphas, attributes, candidate_plus_RHS):\n",
    "    value = set(attributes)\n",
    "    # print(previous_level_alphas)\n",
    "    for previous_alpha in previous_level_alphas:\n",
    "        # print(set(previous_alpha))\n",
    "        if set(previous_alpha).issubset(set(alpha)):\n",
    "            value = value.intersection(candidate_plus_RHS[tuple(sorted(previous_alpha))])\n",
    "    return value"
   ]
  },
  {
   "attachments": {},
   "cell_type": "markdown",
   "metadata": {},
   "source": [
    "### Function: To check if set X is a superkey for the new_relation_movie"
   ]
  },
  {
   "cell_type": "code",
   "execution_count": 13,
   "metadata": {},
   "outputs": [],
   "source": [
    "def is_superkey(alpha, dataframe):\n",
    "    # print(alpha)\n",
    "    # print(dataframe.head(5))\n",
    "    count = dataframe[list(alpha)].drop_duplicates().shape[0]\n",
    "    if count == dataframe.shape[0]:\n",
    "        return True\n",
    "    return False"
   ]
  },
  {
   "attachments": {},
   "cell_type": "markdown",
   "metadata": {},
   "source": [
    "### Function: Pruning Algorithm to get functional dependencies"
   ]
  },
  {
   "cell_type": "code",
   "execution_count": 14,
   "metadata": {},
   "outputs": [],
   "source": [
    "def discover_functional_dependencies(attributes, dataframe):\n",
    "    dependencies = []\n",
    "    candidate_plus_RHS = dict()  # To hold RHS candidates for a given set X\n",
    "    previous_level_alphas = [tuple([])]  # level 0\n",
    "    candidate_plus_RHS[tuple([])] = set(attributes)  # for level 0\n",
    "    print(candidate_plus_RHS[tuple([])])\n",
    "    current_level_alphas = list(combinations(attributes, 1))  # All Alpha's at level '1' in lattice\n",
    "    for level in range(1, 4):\n",
    "        print(current_level_alphas)\n",
    "        # Initializing Candidate RHS for all Alpha's\n",
    "        for alpha in current_level_alphas:\n",
    "            alpha = tuple(sorted(alpha))\n",
    "            candidate_plus_RHS[alpha] = get_candidate_plus_RHS(alpha, previous_level_alphas, attributes, candidate_plus_RHS)\n",
    "        # Dependency checking\n",
    "        for alpha in current_level_alphas:\n",
    "            alpha = tuple(sorted(alpha))\n",
    "            # Candidate RHS should be a subset(in domain) of Alpha\n",
    "            possible_rhs = set(alpha).intersection(candidate_plus_RHS[alpha])\n",
    "            for rhs in list(possible_rhs):\n",
    "                lhs = list(set(alpha).difference({rhs}))  # Alpha\\{RHS} -> RHS\n",
    "                if lhs == None or len(lhs) <= 0:\n",
    "                    continue\n",
    "                if check_dependency(dataframe, lhs, rhs):\n",
    "                    dependencies.append([tuple(lhs), rhs])\n",
    "                    # RHS Candidate Pruning\n",
    "                    # Remove rhs\n",
    "                    candidate_plus_RHS[alpha].remove(rhs)\n",
    "                    # Remove all attributes that doesn't belong to Alpha\n",
    "                    R_alpha = set(attributes).difference(set(alpha))\n",
    "                    candidate_plus_RHS[alpha] = candidate_plus_RHS[alpha].difference(R_alpha)\n",
    "        # Pruning\n",
    "        prune_alphas = []\n",
    "        for alpha in current_level_alphas:\n",
    "            alpha = tuple(sorted(alpha))\n",
    "            if not bool(candidate_plus_RHS[alpha]):  # if Candidate RHS is empty\n",
    "                prune_alphas.append(set(alpha))\n",
    "            if is_superkey(alpha, dataframe): # Add all depedencies possible as it is superkey\n",
    "                for A in list(candidate_plus_RHS[alpha].difference(set(alpha))):\n",
    "                    reduction = set(attributes)\n",
    "                    for B in list(alpha):\n",
    "                        x = [i for i in set(alpha).union({A}).difference({B})]\n",
    "                        x = sorted(x)\n",
    "                        # print(tuple(x))\n",
    "                        reduction.intersection(candidate_plus_RHS[tuple(x)])\n",
    "                    if A in reduction:\n",
    "                        dependencies.append([alpha, A])\n",
    "                prune_alphas.append(set(alpha))\n",
    "        # Generating Alpha's for next level\n",
    "        previous_level_alphas = current_level_alphas\n",
    "        current_level_alphas = list(combinations(attributes, level))\n",
    "        for alpha in current_level_alphas:\n",
    "            for pruned in prune_alphas:\n",
    "                if set(alpha).issuperset(pruned):\n",
    "                    current_level_alphas.remove(alpha)\n",
    "                    break\n",
    "    minimal_dependencies = set()\n",
    "    for x in dependencies:\n",
    "        minimal_dependencies.add(tuple(x))\n",
    "    return minimal_dependencies\n"
   ]
  },
  {
   "cell_type": "code",
   "execution_count": 15,
   "metadata": {},
   "outputs": [
    {
     "name": "stdout",
     "output_type": "stream",
     "text": [
      "{'aisle', 'aisle_id'}\n",
      "[('aisle_id',), ('aisle',)]\n",
      "[('aisle',)]\n",
      "[]\n"
     ]
    },
    {
     "data": {
      "text/plain": [
       "{(('aisle',), 'aisle_id'), (('aisle_id',), 'aisle')}"
      ]
     },
     "execution_count": 15,
     "metadata": {},
     "output_type": "execute_result"
    }
   ],
   "source": [
    "dependencies = discover_functional_dependencies(aisles_attributes, aisles_df)\n",
    "dependencies"
   ]
  },
  {
   "cell_type": "code",
   "execution_count": 16,
   "metadata": {},
   "outputs": [
    {
     "name": "stdout",
     "output_type": "stream",
     "text": [
      "{'order_id', 'order_dow', 'order_hour_of_day', 'user_id', 'days_since_prior_order', 'order_number'}\n",
      "[('order_id',), ('user_id',), ('order_number',), ('order_dow',), ('order_hour_of_day',), ('days_since_prior_order',)]\n",
      "[('user_id',), ('order_number',), ('order_dow',), ('order_hour_of_day',), ('days_since_prior_order',)]\n",
      "[('order_id', 'user_id'), ('order_id', 'order_number'), ('order_id', 'order_dow'), ('order_id', 'order_hour_of_day'), ('order_id', 'days_since_prior_order'), ('user_id', 'order_number'), ('user_id', 'order_dow'), ('user_id', 'order_hour_of_day'), ('user_id', 'days_since_prior_order'), ('order_number', 'order_dow'), ('order_number', 'order_hour_of_day'), ('order_number', 'days_since_prior_order'), ('order_dow', 'order_hour_of_day'), ('order_dow', 'days_since_prior_order'), ('order_hour_of_day', 'days_since_prior_order')]\n"
     ]
    },
    {
     "data": {
      "text/plain": [
       "{(('order_id',), 'days_since_prior_order'),\n",
       " (('order_id',), 'order_dow'),\n",
       " (('order_id',), 'order_hour_of_day'),\n",
       " (('order_id',), 'order_number'),\n",
       " (('order_id',), 'user_id'),\n",
       " (('order_number', 'user_id'), 'days_since_prior_order'),\n",
       " (('order_number', 'user_id'), 'order_dow'),\n",
       " (('order_number', 'user_id'), 'order_hour_of_day'),\n",
       " (('order_number', 'user_id'), 'order_id')}"
      ]
     },
     "execution_count": 16,
     "metadata": {},
     "output_type": "execute_result"
    }
   ],
   "source": [
    "dependencies = discover_functional_dependencies(orders_attributes, orders_df)\n",
    "dependencies"
   ]
  },
  {
   "cell_type": "code",
   "execution_count": 17,
   "metadata": {},
   "outputs": [
    {
     "name": "stdout",
     "output_type": "stream",
     "text": [
      "{'department', 'department_id'}\n",
      "[('department_id',), ('department',)]\n",
      "[('department',)]\n",
      "[]\n"
     ]
    },
    {
     "data": {
      "text/plain": [
       "{(('department',), 'department_id'), (('department_id',), 'department')}"
      ]
     },
     "execution_count": 17,
     "metadata": {},
     "output_type": "execute_result"
    }
   ],
   "source": [
    "dependencies = discover_functional_dependencies(departments_attributes, departments_df)\n",
    "dependencies"
   ]
  },
  {
   "cell_type": "code",
   "execution_count": 18,
   "metadata": {},
   "outputs": [
    {
     "name": "stdout",
     "output_type": "stream",
     "text": [
      "{'aisle_id', 'product_name', 'department_id', 'product_id'}\n",
      "[('product_id',), ('product_name',), ('aisle_id',), ('department_id',)]\n",
      "[('product_name',), ('aisle_id',), ('department_id',)]\n",
      "[('product_id', 'aisle_id'), ('product_id', 'department_id'), ('product_name', 'department_id'), ('aisle_id', 'department_id')]\n"
     ]
    },
    {
     "data": {
      "text/plain": [
       "{(('aisle_id',), 'department_id'),\n",
       " (('product_id',), 'aisle_id'),\n",
       " (('product_id',), 'department_id'),\n",
       " (('product_id',), 'product_name'),\n",
       " (('product_name',), 'aisle_id'),\n",
       " (('product_name',), 'department_id'),\n",
       " (('product_name',), 'product_id')}"
      ]
     },
     "execution_count": 18,
     "metadata": {},
     "output_type": "execute_result"
    }
   ],
   "source": [
    "dependencies = discover_functional_dependencies(products_attributes, products_df)\n",
    "dependencies"
   ]
  },
  {
   "cell_type": "code",
   "execution_count": 19,
   "metadata": {},
   "outputs": [
    {
     "name": "stdout",
     "output_type": "stream",
     "text": [
      "{'state', 'user_id', 'city', 'user_address', 'pincode', 'user_name', 'user_email'}\n",
      "[('user_id',), ('user_name',), ('user_address',), ('city',), ('state',), ('pincode',), ('user_email',)]\n",
      "[('user_name',), ('user_address',), ('city',), ('state',), ('pincode',)]\n",
      "[('user_id', 'user_name'), ('user_id', 'user_address'), ('user_id', 'city'), ('user_id', 'state'), ('user_id', 'pincode'), ('user_id', 'user_email'), ('user_name', 'user_address'), ('user_name', 'city'), ('user_name', 'state'), ('user_name', 'pincode'), ('user_name', 'user_email'), ('user_address', 'city'), ('user_address', 'state'), ('user_address', 'pincode'), ('user_address', 'user_email'), ('city', 'state'), ('city', 'pincode'), ('city', 'user_email'), ('state', 'pincode'), ('state', 'user_email'), ('pincode', 'user_email')]\n"
     ]
    },
    {
     "data": {
      "text/plain": [
       "{(('city', 'user_address'), 'pincode'),\n",
       " (('city', 'user_address'), 'state'),\n",
       " (('city', 'user_address'), 'user_email'),\n",
       " (('city', 'user_address'), 'user_id'),\n",
       " (('city', 'user_address'), 'user_name'),\n",
       " (('pincode', 'user_address'), 'city'),\n",
       " (('pincode', 'user_address'), 'state'),\n",
       " (('pincode', 'user_address'), 'user_email'),\n",
       " (('pincode', 'user_address'), 'user_id'),\n",
       " (('pincode', 'user_address'), 'user_name'),\n",
       " (('user_address', 'user_name'), 'city'),\n",
       " (('user_address', 'user_name'), 'pincode'),\n",
       " (('user_address', 'user_name'), 'state'),\n",
       " (('user_address', 'user_name'), 'user_email'),\n",
       " (('user_address', 'user_name'), 'user_id'),\n",
       " (('user_email',), 'city'),\n",
       " (('user_email',), 'pincode'),\n",
       " (('user_email',), 'state'),\n",
       " (('user_email',), 'user_address'),\n",
       " (('user_email',), 'user_id'),\n",
       " (('user_email',), 'user_name'),\n",
       " (('user_id',), 'city'),\n",
       " (('user_id',), 'pincode'),\n",
       " (('user_id',), 'state'),\n",
       " (('user_id',), 'user_address'),\n",
       " (('user_id',), 'user_email'),\n",
       " (('user_id',), 'user_name')}"
      ]
     },
     "execution_count": 19,
     "metadata": {},
     "output_type": "execute_result"
    }
   ],
   "source": [
    "dependencies = discover_functional_dependencies(users_attributes, users_df)\n",
    "dependencies"
   ]
  },
  {
   "cell_type": "code",
   "execution_count": 20,
   "metadata": {},
   "outputs": [
    {
     "name": "stdout",
     "output_type": "stream",
     "text": [
      "{'order_id', 'add_to_cart_order', 'reordered', 'product_id'}\n",
      "[('order_id',), ('product_id',), ('add_to_cart_order',), ('reordered',)]\n",
      "[('order_id',), ('product_id',), ('add_to_cart_order',), ('reordered',)]\n",
      "[('order_id', 'product_id'), ('order_id', 'add_to_cart_order'), ('order_id', 'reordered'), ('product_id', 'add_to_cart_order'), ('product_id', 'reordered'), ('add_to_cart_order', 'reordered')]\n"
     ]
    },
    {
     "data": {
      "text/plain": [
       "{(('add_to_cart_order', 'order_id'), 'product_id'),\n",
       " (('add_to_cart_order', 'order_id'), 'reordered'),\n",
       " (('order_id', 'product_id'), 'add_to_cart_order'),\n",
       " (('order_id', 'product_id'), 'reordered')}"
      ]
     },
     "execution_count": 20,
     "metadata": {},
     "output_type": "execute_result"
    }
   ],
   "source": [
    "dependencies = discover_functional_dependencies(order_products_attributes, order_products_df)\n",
    "dependencies"
   ]
  },
  {
   "cell_type": "code",
   "execution_count": null,
   "metadata": {},
   "outputs": [],
   "source": []
  }
 ],
 "metadata": {
  "kernelspec": {
   "display_name": "Python 3",
   "language": "python",
   "name": "python3"
  },
  "language_info": {
   "codemirror_mode": {
    "name": "ipython",
    "version": 3
   },
   "file_extension": ".py",
   "mimetype": "text/x-python",
   "name": "python",
   "nbconvert_exporter": "python",
   "pygments_lexer": "ipython3",
   "version": "3.10.6"
  },
  "orig_nbformat": 4
 },
 "nbformat": 4,
 "nbformat_minor": 2
}
