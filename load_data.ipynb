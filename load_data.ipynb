{
 "cells": [
  {
   "cell_type": "code",
   "execution_count": 4,
   "metadata": {},
   "outputs": [],
   "source": [
    "import psycopg2\n",
    "import psycopg2.extras\n",
    "import configparser as configparser"
   ]
  },
  {
   "cell_type": "code",
   "execution_count": 7,
   "metadata": {},
   "outputs": [],
   "source": [
    "def parse_ini(section: str) -> dict:\n",
    "    \"\"\"\n",
    "    This function parses ini file for configuration details\n",
    "    :param section: section to read from ini\n",
    "    :return: Dictionary of config details\n",
    "    \"\"\"\n",
    "    config = dict()\n",
    "    parser = configparser.ConfigParser()\n",
    "    parser.read(\"database.ini\")\n",
    "    if parser.has_section(section):\n",
    "        config_items = parser.items(section)\n",
    "        for item in config_items:\n",
    "            config[item[0]] = item[1]\n",
    "    return config"
   ]
  },
  {
   "cell_type": "code",
   "execution_count": 8,
   "metadata": {},
   "outputs": [
    {
     "data": {
      "text/plain": [
       "{'host': 'localhost',\n",
       " 'database': 'instacart',\n",
       " 'user': 'postgres',\n",
       " 'password': 'postgres',\n",
       " 'port': '5432'}"
      ]
     },
     "execution_count": 8,
     "metadata": {},
     "output_type": "execute_result"
    }
   ],
   "source": [
    "db_config = parse_ini(\"postgresql\")\n",
    "db_config"
   ]
  },
  {
   "cell_type": "code",
   "execution_count": 9,
   "metadata": {},
   "outputs": [],
   "source": [
    "def load_entities(db_config: dict, list_of_csvs: list) -> bool:\n",
    "    \"\"\"\n",
    "    This function insert dataframe to an existing entity table\n",
    "    :param db_config: Database configuration details\n",
    "    :param list_of_csvs:\n",
    "    :return: boolean whether process was done or not\n",
    "    \"\"\"\n",
    "    conn = psycopg2.connect(**db_config)\n",
    "    cursor = conn.cursor()\n",
    "    for csv_name in list_of_csvs:\n",
    "        try:\n",
    "            with open(csv_name + '.csv', 'r', encoding='utf-8') as csvfile:\n",
    "                next(csvfile)  # To skip header row.\n",
    "                print(\"Copying from CSV:\" + csv_name + \" to DB\")\n",
    "                cursor.copy_from(csvfile, csv_name, sep='|', null='\\\\N')\n",
    "                conn.commit()\n",
    "                print(\"The CSV is loaded to DB\")\n",
    "        except (Exception, psycopg2.DatabaseError) as error:\n",
    "            print(\"SQL Exception:\" + str(error))\n",
    "            conn.rollback()\n",
    "            return False\n",
    "    cursor.close()\n",
    "    conn.close()\n",
    "    return True"
   ]
  },
  {
   "cell_type": "code",
   "execution_count": 10,
   "metadata": {},
   "outputs": [
    {
     "data": {
      "text/plain": [
       "['departments_df',\n",
       " 'aisles_df',\n",
       " 'random_us_addresses_df',\n",
       " 'products_df',\n",
       " 'orders_df',\n",
       " 'order_products_prior_df']"
      ]
     },
     "execution_count": 10,
     "metadata": {},
     "output_type": "execute_result"
    }
   ],
   "source": [
    "list_of_csvs = [\"departments_df\", \"aisles_df\", \"random_us_addresses_df\", \"products_df\", \"orders_df\", \"order_products_prior_df\"]\n",
    "list_of_csvs"
   ]
  },
  {
   "cell_type": "code",
   "execution_count": null,
   "metadata": {},
   "outputs": [],
   "source": [
    "load_entities(db_config, list_of_csvs)"
   ]
  }
 ],
 "metadata": {
  "kernelspec": {
   "display_name": "Python 3",
   "language": "python",
   "name": "python3"
  },
  "language_info": {
   "codemirror_mode": {
    "name": "ipython",
    "version": 3
   },
   "file_extension": ".py",
   "mimetype": "text/x-python",
   "name": "python",
   "nbconvert_exporter": "python",
   "pygments_lexer": "ipython3",
   "version": "3.10.6"
  },
  "orig_nbformat": 4
 },
 "nbformat": 4,
 "nbformat_minor": 2
}
