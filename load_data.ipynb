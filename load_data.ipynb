{
 "cells": [
  {
   "cell_type": "code",
   "execution_count": 37,
   "metadata": {},
   "outputs": [],
   "source": [
    "import psycopg2\n",
    "import psycopg2.extras\n",
    "import configparser as configparser"
   ]
  },
  {
   "cell_type": "code",
   "execution_count": 38,
   "metadata": {},
   "outputs": [],
   "source": [
    "def parse_ini(section: str) -> dict:\n",
    "    \"\"\"\n",
    "    This function parses ini file for configuration details\n",
    "    :param section: section to read from ini\n",
    "    :return: Dictionary of config details\n",
    "    \"\"\"\n",
    "    config = dict()\n",
    "    parser = configparser.ConfigParser()\n",
    "    parser.read(\"database.ini\")\n",
    "    if parser.has_section(section):\n",
    "        config_items = parser.items(section)\n",
    "        for item in config_items:\n",
    "            config[item[0]] = item[1]\n",
    "    return config"
   ]
  },
  {
   "cell_type": "code",
   "execution_count": 39,
   "metadata": {},
   "outputs": [
    {
     "data": {
      "text/plain": [
       "{'host': 'localhost',\n",
       " 'database': 'instacart',\n",
       " 'user': 'postgres',\n",
       " 'password': '1997',\n",
       " 'port': '5432'}"
      ]
     },
     "execution_count": 39,
     "metadata": {},
     "output_type": "execute_result"
    }
   ],
   "source": [
    "db_config = parse_ini(\"postgresql\")\n",
    "db_config"
   ]
  },
  {
   "cell_type": "code",
   "execution_count": 40,
   "metadata": {},
   "outputs": [],
   "source": [
    "def load_entities(db_config: dict, list_of_csvs: list) -> bool:\n",
    "    \"\"\"\n",
    "    This function insert dataframe to an existing entity table\n",
    "    :param db_config: Database configuration details\n",
    "    :param list_of_csvs:\n",
    "    :return: boolean whether process was done or not\n",
    "    \"\"\"\n",
    "    conn = psycopg2.connect(**db_config, options=\"-c search_path=dbo,public,instacart\")\n",
    "    cursor = conn.cursor()\n",
    "    for csv_name, table_name in list_of_csvs:\n",
    "        try:\n",
    "            with open(csv_name + '.csv', 'r', encoding='utf-8') as csvfile:\n",
    "                next(csvfile)  # To skip header row.\n",
    "                print(\"Copying from CSV:\" + csv_name + \" to table:\" + table_name + \" of DB\")\n",
    "                cursor.copy_from(csvfile, table_name, sep=';', null=\"\\\\N\")\n",
    "                conn.commit()\n",
    "                print(\"The CSV is loaded to DB\")\n",
    "        except (Exception, psycopg2.DatabaseError) as error:\n",
    "            print(\"SQL Exception:\" + str(error))\n",
    "            conn.rollback()\n",
    "            return False\n",
    "    cursor.close()\n",
    "    conn.close()\n",
    "    return True"
   ]
  },
  {
   "cell_type": "code",
   "execution_count": 41,
   "metadata": {},
   "outputs": [
    {
     "data": {
      "text/plain": [
       "[('aisles_df', 'aisles'),\n",
       " ('departments_df', 'departments'),\n",
       " ('random_us_addresses_df', 'users'),\n",
       " ('products_df', 'products'),\n",
       " ('orders_df', 'orders'),\n",
       " ('order_products_prior_df', 'order_products')]"
      ]
     },
     "execution_count": 41,
     "metadata": {},
     "output_type": "execute_result"
    }
   ],
   "source": [
    "list_of_csvs = [(\"aisles_df\", \"aisles\"), (\"departments_df\", \"departments\"), (\"random_us_addresses_df\", \"users\"), (\"products_df\", \"products\"), (\"orders_df\", \"orders\"), (\"order_products_prior_df\", \"order_products\")]\n",
    "list_of_csvs"
   ]
  },
  {
   "cell_type": "code",
   "execution_count": 42,
   "metadata": {},
   "outputs": [
    {
     "name": "stdout",
     "output_type": "stream",
     "text": [
      "Copying from CSV:aisles_df to table:aisles of DB\n",
      "The CSV is loaded to DB\n",
      "Copying from CSV:departments_df to table:departments of DB\n",
      "The CSV is loaded to DB\n",
      "Copying from CSV:random_us_addresses_df to table:users of DB\n",
      "The CSV is loaded to DB\n",
      "Copying from CSV:products_df to table:products of DB\n",
      "SQL Exception:extra data after last expected column\n",
      "CONTEXT:  COPY products, line 30: \"30,\"Three Cheese Ziti, Marinara with Meatballs\",38,1\"\n",
      "\n"
     ]
    },
    {
     "data": {
      "text/plain": [
       "False"
      ]
     },
     "execution_count": 42,
     "metadata": {},
     "output_type": "execute_result"
    }
   ],
   "source": [
    "load_entities(db_config, list_of_csvs)"
   ]
  }
 ],
 "metadata": {
  "kernelspec": {
   "display_name": "Python 3",
   "language": "python",
   "name": "python3"
  },
  "language_info": {
   "codemirror_mode": {
    "name": "ipython",
    "version": 3
   },
   "file_extension": ".py",
   "mimetype": "text/x-python",
   "name": "python",
   "nbconvert_exporter": "python",
   "pygments_lexer": "ipython3",
   "version": "3.10.6"
  },
  "orig_nbformat": 4
 },
 "nbformat": 4,
 "nbformat_minor": 2
}
